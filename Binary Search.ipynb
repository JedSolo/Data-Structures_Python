{
 "cells": [
  {
   "cell_type": "markdown",
   "id": "442d98ce",
   "metadata": {},
   "source": [
    "## Recursive Binary Search: The Recursive Steps"
   ]
  },
  {
   "cell_type": "code",
   "execution_count": 1,
   "id": "8d3397c9",
   "metadata": {},
   "outputs": [
    {
     "name": "stdout",
     "output_type": "stream",
     "text": [
      "3\n"
     ]
    }
   ],
   "source": [
    "# define binary_search()\n",
    "def binary_search(sorted_list, target):\n",
    "  if not sorted_list:\n",
    "    return 'value not found'\n",
    "  mid_idx = len(sorted_list)//2\n",
    "  mid_val = sorted_list[mid_idx]\n",
    "  if mid_val == target:\n",
    "    return mid_idx\n",
    "  if mid_val > target:\n",
    "    left_half = sorted_list[:mid_idx]\n",
    "    return binary_search(left_half, target)\n",
    "  if mid_val < target:\n",
    "    right_half = sorted_list[mid_idx+1:]\n",
    "    result = binary_search(right_half, target)\n",
    "    if result == \"value not found\":\n",
    "      return result\n",
    "    else:\n",
    "      return result + mid_idx + 1\n",
    "# For testing:\n",
    "sorted_values = [13, 14, 15, 16, 17]\n",
    "print(binary_search(sorted_values, 16))"
   ]
  },
  {
   "cell_type": "markdown",
   "id": "489dd984",
   "metadata": {},
   "source": [
    "## Recursive Binary Search: Review and Refactor"
   ]
  },
  {
   "cell_type": "code",
   "execution_count": 2,
   "id": "0c026ba8",
   "metadata": {},
   "outputs": [
    {
     "name": "stdout",
     "output_type": "stream",
     "text": [
      "element 288 is located at index 4\n"
     ]
    }
   ],
   "source": [
    "def binary_search(sorted_list, left_pointer, right_pointer, target):\n",
    "  # this condition indicates we've reached an empty \"sub-list\"\n",
    "  if left_pointer >= right_pointer:\n",
    "    return \"value not found\"\n",
    "\t\n",
    "  # We calculate the middle index from the pointers now\n",
    "  mid_idx = (left_pointer + right_pointer) // 2\n",
    "  mid_val = sorted_list[mid_idx]\n",
    "\n",
    "  if mid_val == target:\n",
    "    return mid_idx\n",
    "  if mid_val > target:\n",
    "    # we reduce the sub-list by passing in a new right_pointer\n",
    "    return binary_search(sorted_list, left_pointer, mid_idx, target)\n",
    "  if mid_val < target:\n",
    "    # we reduce the sub-list by passing in a new left_pointer\n",
    "    return binary_search(sorted_list, mid_idx + 1, right_pointer, target)\n",
    "  \n",
    "values = [77, 80, 102, 123, 288, 300, 540]\n",
    "start_of_values = 0\n",
    "end_of_values = len(values)\n",
    "result = binary_search(values, start_of_values, end_of_values, 288)\n",
    "\n",
    "print(\"element {0} is located at index {1}\".format(288, result))"
   ]
  },
  {
   "cell_type": "code",
   "execution_count": 3,
   "id": "00d1c312",
   "metadata": {},
   "outputs": [
    {
     "name": "stdout",
     "output_type": "stream",
     "text": [
      "4\n",
      "Value not in list\n",
      "3\n",
      "Value not in list\n",
      "1\n"
     ]
    }
   ],
   "source": [
    "def binary_search(sorted_list, target):\n",
    "  left_pointer = 0\n",
    "  right_pointer = len(sorted_list)\n",
    "  \n",
    "  # fill in the condition for the while loop\n",
    "  while left_pointer < right_pointer:\n",
    "    # calculate the middle index using the two pointers\n",
    "    mid_idx = (left_pointer + right_pointer) // 2\n",
    "    mid_val = sorted_list[mid_idx]\n",
    "    if mid_val == target:\n",
    "      return mid_idx\n",
    "    if target < mid_val:\n",
    "      # set the right_pointer to the appropriate value\n",
    "      right_pointer = mid_idx\n",
    "    if target > mid_val:\n",
    "      # set the left_pointer to the appropriate value\n",
    "      left_pointer = mid_idx + 1\n",
    "  \n",
    "  return \"Value not in list\"\n",
    "\n",
    "# test cases\n",
    "print(binary_search([5,6,7,8,9], 9))\n",
    "print(binary_search([5,6,7,8,9], 10))\n",
    "print(binary_search([5,6,7,8,9], 8))\n",
    "print(binary_search([5,6,7,8,9], 4))\n",
    "print(binary_search([5,6,7,8,9], 6))"
   ]
  },
  {
   "cell_type": "code",
   "execution_count": null,
   "id": "e3a6f9e4",
   "metadata": {},
   "outputs": [],
   "source": []
  }
 ],
 "metadata": {
  "kernelspec": {
   "display_name": "Python 3",
   "language": "python",
   "name": "python3"
  },
  "language_info": {
   "codemirror_mode": {
    "name": "ipython",
    "version": 3
   },
   "file_extension": ".py",
   "mimetype": "text/x-python",
   "name": "python",
   "nbconvert_exporter": "python",
   "pygments_lexer": "ipython3",
   "version": "3.8.8"
  }
 },
 "nbformat": 4,
 "nbformat_minor": 5
}
